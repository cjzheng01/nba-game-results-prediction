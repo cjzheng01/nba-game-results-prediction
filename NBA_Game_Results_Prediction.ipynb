{
 "cells": [
  {
   "cell_type": "markdown",
   "metadata": {},
   "source": [
    "## NBA Game Results Prediction\n",
    "Note: all data for this project are generated and/or modified from https://basketball-reference.com <br>\n",
    "Source data were uploaded to my personal website, they are also avaliable on this site. <br>\n",
    "This prediction is produced by Jiabao Zheng with thanks to the inspiration by https://lanqiao.cn <br>\n",
    "The data cleaning notebook can be found at <a href=\"data_cleaning.html\" target=\"_blank\">here.</a>."
   ]
  },
  {
   "cell_type": "markdown",
   "metadata": {},
   "source": [
    "In this project, we use Python and Logistic Regression to predict NBA game results in 2019-2020 season based on team's statistic from the previous season. \n",
    "![title](nba_profile.jpg)"
   ]
  },
  {
   "cell_type": "markdown",
   "metadata": {},
   "source": [
    "We have selected the following 3 tables among 2018-2019 season summary tables:"
   ]
  },
  {
   "cell_type": "markdown",
   "metadata": {},
   "source": [
    "*   **Team Per Game Stats**："
   ]
  },
  {
   "cell_type": "markdown",
   "metadata": {},
   "source": [
    "| Name | Description |\n",
    "| :--- | :--- |\n",
    "| Rk | Rank | \n",
    "| G | Games |\n",
    "| MP | Minutes Played | \n",
    "| FG | Field Goals | \n",
    "| FGA | Field Goal Attempts | \n",
    "| FG% | Field Goal Percentage | \n",
    "| 3P | 3-Point Field Goals | \n",
    "| 3PA | 3-Point Field Goal Attempts | \n",
    "| 3P% | 3-Point Field Goal Percentage | \n",
    "| 2P | 2-Point Field Goals | \n",
    "| 2PA | 2-point Field Goal Attempts | \n",
    "| 2P%  |  2-Point Field Goal Percentage | \n",
    "| FT | Free Throws | \n",
    "| FTA | Free Throw Attempts |\n",
    "| FT% | Free Throw Percentage | \n",
    "| ORB | Offensive Rebounds | \n",
    "| DRB | Defensive Rebounds | \n",
    "| TRB | Total Rebounds | \n",
    "| AST | Assists | \n",
    "| STL | Steals | \n",
    "| BLK  |  Blocks |\n",
    "| TOV  |  Turnovers | \n",
    "| PF  |  Personal Fouls | \n",
    "| PTS  |  Points |"
   ]
  },
  {
   "cell_type": "markdown",
   "metadata": {},
   "source": [
    "*   **Opponent Per Game Stats**: This is similar to the table above."
   ]
  },
  {
   "cell_type": "markdown",
   "metadata": {},
   "source": [
    "*   **Miscellaneous Stats**:"
   ]
  },
  {
   "cell_type": "markdown",
   "metadata": {},
   "source": [
    "| Name | Description |\n",
    "| :--- | :--- |\n",
    "| Rk (Rank) | Rank |\n",
    "| Age | Average age of players |\n",
    "| W (Wins) | Number of wins |\n",
    "| L (Losses) | Number of failures |\n",
    "| PW (Pythagorean wins) | The probability of winning calculated based on the Pythagorean theory |\n",
    "| PL (Pythagorean losses) | Probability of loss calculated based on Pythagorean theory |\n",
    "| MOV (Margin of Victory) | Average interval between wins |\n",
    "| SOS (Strength of Schedule) | Used to judge the difficulty of the opponent's choice with its team or other teams, 0 is the average line, can be positive/negative |\n",
    "| SRS (Simple Rating System) | A simple rating system to rank teams according to their points difference |\n",
    "| ORtg (Offensive Rating) | Percentage of offenses per 100 rounds |\n",
    "| DRtg (Defensive Rating) | Percentage of defense per 100 rounds |\n",
    "| Pace (Pace Factor) | Approximately how many rounds will be played every 48 minutes |\n",
    "| FTr (Free Throw Attempt Rate) | Free throws as a percentage of shots |\n",
    "| 3PAr (3-Point Attempt Rate) | Ratio of three-point shots to shots |\n",
    "| TS% (True Shooting Percentage) | Total two-pointers, three-pointers and free throw percentages |\n",
    "| eFG% (Effective Field Goal Percentage) | Effective Field Goal Percentage (including two-pointers and three-pointers) |\n",
    "| TOV% (Turnover Percentage) | Percentage of turnovers per 100 games |\n",
    "| ORB% (Offensive Rebound Percentage) | Percentage of offensive rebounds per person on the team |\n",
    "| FT/FGA | Percentage of free throw shots |\n",
    "| eFG% (Opponent Effective Field Goal Percentage) | Opponent Shot Percentage |\n",
    "| TOV% (Opponent Turnover Percentage) | Opponent Turnover Percentage |\n",
    "| DRB% (Defensive Rebound Percentage) | The average defensive rebound percentage per player on the team |\n",
    "| FT/FGA (Opponent Free Throws Per Field Goal Attempt) | Opponent Free Throws Per Field Goal Attempt |"
   ]
  },
  {
   "cell_type": "code",
   "execution_count": 1,
   "metadata": {},
   "outputs": [
    {
     "data": {
      "text/plain": [
       "'\\n# get data\\n!wget https://student.cs.uwaterloo.ca/~j243zhen/project/data.zip\\n\\n# install unzip\\n!apt-get install unzip\\n\\n# unzip data.zip and remove it\\n!unzip data.zip \\n!rm -r data.zip\\n'"
      ]
     },
     "execution_count": 1,
     "metadata": {},
     "output_type": "execute_result"
    }
   ],
   "source": [
    "'''\n",
    "# get data\n",
    "!wget https://student.cs.uwaterloo.ca/~j243zhen/project/data.zip\n",
    "\n",
    "# install unzip\n",
    "!apt-get install unzip\n",
    "\n",
    "# unzip data.zip and remove it\n",
    "!unzip data.zip \n",
    "!rm -r data.zip\n",
    "'''"
   ]
  },
  {
   "cell_type": "code",
   "execution_count": 2,
   "metadata": {},
   "outputs": [],
   "source": [
    "# Import libraries\n",
    "import pandas as pd\n",
    "import math\n",
    "import csv\n",
    "import random\n",
    "import numpy as np\n",
    "from sklearn import linear_model\n",
    "from sklearn.model_selection import cross_val_score"
   ]
  },
  {
   "cell_type": "markdown",
   "metadata": {},
   "source": [
    "The logistic of calculating Elo Rating in NBA is avaliable at https://fivethirtyeight.com/features/how-we-calculate-nba-elo-ratings/"
   ]
  },
  {
   "cell_type": "markdown",
   "metadata": {},
   "source": [
    "Set the parameter variables needed for regression training"
   ]
  },
  {
   "cell_type": "code",
   "execution_count": 3,
   "metadata": {},
   "outputs": [],
   "source": [
    "# if this team does not have initial elo，assign base_elo to it\n",
    "base_elo = 1600\n",
    "team_elos = {} \n",
    "team_stats = {}\n",
    "X = []\n",
    "y = []\n",
    "# the directory to store data\n",
    "folder = 'data'"
   ]
  },
  {
   "cell_type": "code",
   "execution_count": 4,
   "metadata": {},
   "outputs": [],
   "source": [
    "# based on each team's Miscellaneous Opponent，Team Stats file to initialize data\n",
    "def initialize_data(Mstat, Ostat, Tstat):\n",
    "    new_Mstat = Mstat.drop(['Rk', 'Arena'], axis=1)\n",
    "    new_Ostat = Ostat.drop(['Rk', 'G', 'MP'], axis=1)\n",
    "    new_Tstat = Tstat.drop(['Rk', 'G', 'MP'], axis=1)\n",
    "\n",
    "    team_stats1 = pd.merge(new_Mstat, new_Ostat, how='left', on='Team')\n",
    "    team_stats1 = pd.merge(team_stats1, new_Tstat, how='left', on='Team')\n",
    "    return team_stats1.set_index('Team', inplace=False, drop=True)"
   ]
  },
  {
   "cell_type": "code",
   "execution_count": 5,
   "metadata": {},
   "outputs": [],
   "source": [
    "'''\n",
    "get_elo(team) gets the Elo Score rating of each team. When there is no rating at the beginning, \n",
    "give it the initial base_elo value:\n",
    "'''\n",
    "def get_elo(team):\n",
    "    try:\n",
    "        return team_elos[team]\n",
    "    except:\n",
    "        # if there is no initial elo of a team, assign base_elo\n",
    "        team_elos[team] = base_elo\n",
    "        return team_elos[team]"
   ]
  },
  {
   "cell_type": "code",
   "execution_count": 6,
   "metadata": {},
   "outputs": [],
   "source": [
    "# calculate the elo value of each team\n",
    "def calc_elo(win_team, lose_team):\n",
    "    winner_rank = get_elo(win_team)\n",
    "    loser_rank = get_elo(lose_team)\n",
    "\n",
    "    rank_diff = winner_rank - loser_rank\n",
    "    exp = (rank_diff  * -1) / 400\n",
    "    odds = 1 / (1 + math.pow(10, exp))\n",
    "    # modify k value by ranks\n",
    "    if winner_rank < 2100:\n",
    "        k = 32\n",
    "    elif winner_rank >= 2100 and winner_rank < 2400:\n",
    "        k = 24\n",
    "    else:\n",
    "        k = 16\n",
    "    \n",
    "    # update rank\n",
    "    new_winner_rank = round(winner_rank + (k * (1 - odds)))      \n",
    "    new_loser_rank = round(loser_rank + (k * (0 - odds)))\n",
    "    return new_winner_rank, new_loser_rank"
   ]
  },
  {
   "cell_type": "code",
   "execution_count": 7,
   "metadata": {},
   "outputs": [],
   "source": [
    "'''\n",
    "Based on our initial statistics and the calculation results of Elo score of each team, \n",
    "a data set corresponding to each game in the regular season and playoffs from 2018 to 2019 is established.\n",
    "'''\n",
    "def  build_dataSet(all_data):\n",
    "    print(\"Building data set..\")\n",
    "    X = []\n",
    "    skip = 0\n",
    "    for index, row in all_data.iterrows():\n",
    "\n",
    "        Wteam = row['WTeam']\n",
    "        Lteam = row['LTeam']\n",
    "\n",
    "        # initial elo value of each team\n",
    "        team1_elo = get_elo(Wteam)\n",
    "        team2_elo = get_elo(Lteam)\n",
    "        \n",
    "        # add 100 to the elo value of Home's team, as Home's team normally has advantage than Visistor\n",
    "        if row['WLoc'] == 'H':\n",
    "            team1_elo += 100\n",
    "        else:\n",
    "            team2_elo += 100\n",
    "\n",
    "        # consider elo as the primary feature of a team\n",
    "        team1_features = [team1_elo]\n",
    "        team2_features = [team2_elo]\n",
    "\n",
    "        # add more statistical info\n",
    "        for key, value in team_stats.loc[Wteam].iteritems():\n",
    "            team1_features.append(value)\n",
    "        for key, value in team_stats.loc[Lteam].iteritems():\n",
    "            team2_features.append(value)\n",
    "        #ramdonly assign two team's feature values to two sides of each team\n",
    "        # assign the respective 0/1 to y\n",
    "        if random.random() > 0.5:\n",
    "            X.append(team1_features + team2_features)\n",
    "            y.append(0)\n",
    "        else:\n",
    "            X.append(team2_features + team1_features)\n",
    "            y.append(1)\n",
    "\n",
    "        if skip == 0:\n",
    "            print('X',X)\n",
    "            skip = 1\n",
    "\n",
    "        # update elo based on this match\n",
    "        new_winner_rank, new_loser_rank = calc_elo(Wteam, Lteam)\n",
    "        team_elos[Wteam] = new_winner_rank\n",
    "        team_elos[Lteam] = new_loser_rank\n",
    "\n",
    "    return np.nan_to_num(X), y"
   ]
  },
  {
   "cell_type": "code",
   "execution_count": 8,
   "metadata": {},
   "outputs": [
    {
     "name": "stdout",
     "output_type": "stream",
     "text": [
      "Data initialization is done.\n",
      "Building data set..\n",
      "X [[1600, 26.4, 51.0, 31.0, 48.0, 34.0, 2.7, -0.44, 2.25, 112.6, 110.0, 2.6, 101.6, 0.312, 0.342, 0.574, 0.532, 12.9, 24.5, 0.24100000000000002, 0.512, 11.1, 78.6, 0.20600000000000002, 838342.0, 20447.0, 41.7, 91.5, 0.455, 10.3, 30.0, 0.342, 31.4, 61.5, 0.511, 18.8, 24.5, 0.768, 10.0, 33.5, 43.5, 23.4, 7.7, 4.1, 12.7, 22.1, 112.5, 41.5, 88.2, 0.47100000000000003, 10.8, 30.2, 0.359, 30.7, 58.0, 0.529, 21.2, 27.5, 0.7709999999999999, 10.9, 36.9, 47.8, 26.9, 7.4, 5.3, 14.9, 21.3, 115.2, 1700, 25.7, 49.0, 33.0, 52.0, 30.0, 4.44, -0.54, 3.9, 112.2, 107.8, 4.4, 99.6, 0.215, 0.381, 0.5670000000000001, 0.534, 11.5, 21.6, 0.17300000000000001, 0.514, 13.4, 77.0, 0.198, 763584.0, 18624.0, 39.5, 88.1, 0.44799999999999995, 11.5, 33.5, 0.344, 28.0, 54.6, 0.513, 17.4, 22.8, 0.764, 10.4, 35.5, 45.9, 23.7, 6.8, 3.9, 15.1, 19.5, 108.0, 42.1, 90.5, 0.465, 12.6, 34.5, 0.365, 29.5, 56.0, 0.527, 15.6, 19.5, 0.802, 9.8, 34.7, 44.5, 26.3, 8.6, 5.3, 12.8, 20.4, 112.4]]\n",
      "Fitting on 1312 game samples..\n",
      "Doing cross-validation..\n",
      "0.6654001850566736\n",
      "The model has been established based by data from 2018 - 2019 season.\n"
     ]
    }
   ],
   "source": [
    "if __name__ == '__main__':\n",
    "\n",
    "    Mstat = pd.read_csv(folder + '/18-19Miscellaneous_Stat.csv')\n",
    "    Ostat = pd.read_csv(folder + '/18-19Opponent_Per_Game_Stat.csv')\n",
    "    Tstat = pd.read_csv(folder + '/18-19Team_Per_Game_Stat.csv')\n",
    "    \n",
    "    team_stats = initialize_data(Mstat, Ostat, Tstat)\n",
    "    print(\"Data initialization is done.\")\n",
    "    result_data = pd.read_csv(folder + '/18-19_result.csv')\n",
    "    X, y = build_dataSet(result_data)\n",
    "\n",
    "    # training network model\n",
    "    print(\"Fitting on %d game samples..\" % len(X))\n",
    "\n",
    "    \n",
    "    # Logistic Regression from sklean library is used\n",
    "    model = linear_model.LogisticRegression()\n",
    "    model.fit(X, y)\n",
    "\n",
    "    # calculate accuracy by cross-validation\n",
    "    print(\"Doing cross-validation..\")\n",
    "    print(cross_val_score(model, X, y, cv = 10, scoring='accuracy', n_jobs=-1).mean())\n",
    "    \n",
    "    print(\"The model has been established based by data from 2018 - 2019 season.\")"
   ]
  },
  {
   "cell_type": "code",
   "execution_count": 9,
   "metadata": {},
   "outputs": [],
   "source": [
    "def predict_winner(team_1, team_2, model):\n",
    "    features = []\n",
    "\n",
    "    # team 1，VISITOR\n",
    "    features.append(get_elo(team_1))\n",
    "    for key, value in team_stats.loc[team_1].iteritems():\n",
    "        features.append(value)\n",
    "\n",
    "    # team 2，HOME\n",
    "    features.append(get_elo(team_2) + 100)\n",
    "    for key, value in team_stats.loc[team_2].iteritems():\n",
    "        features.append(value)\n",
    "\n",
    "    features = np.nan_to_num(features)\n",
    "    return model.predict_proba([features])"
   ]
  },
  {
   "cell_type": "code",
   "execution_count": 10,
   "metadata": {},
   "outputs": [
    {
     "name": "stdout",
     "output_type": "stream",
     "text": [
      "Predicting on new schedule..\n",
      "The results has been produced in data\n"
     ]
    }
   ],
   "source": [
    "# predict match results in 19-20 by the trained model\n",
    "\n",
    "print('Predicting on new schedule..')\n",
    "schedule1920 = pd.read_csv(folder + '/19-20Schedule.csv')\n",
    "result = []\n",
    "for index, row in schedule1920.iterrows():\n",
    "    team1 = row['Vteam']\n",
    "    team2 = row['Hteam']\n",
    "    pred = predict_winner(team1, team2, model)\n",
    "    prob = pred[0][0]\n",
    "    if prob > 0.5:\n",
    "        winner = team1\n",
    "        loser = team2\n",
    "        result.append([winner, loser, prob])\n",
    "    else:\n",
    "        winner = team2\n",
    "        loser = team1\n",
    "        result.append([winner, loser, 1 - prob])\n",
    "\n",
    "with open('19-20Result_pred.csv', 'w') as f:\n",
    "    writer = csv.writer(f)\n",
    "    writer.writerow(['win', 'lose', 'probability'])\n",
    "    writer.writerows(result)\n",
    "    print('The results has been produced in {}'.format(folder))"
   ]
  },
  {
   "cell_type": "code",
   "execution_count": 11,
   "metadata": {},
   "outputs": [
    {
     "data": {
      "text/html": [
       "<div>\n",
       "<style scoped>\n",
       "    .dataframe tbody tr th:only-of-type {\n",
       "        vertical-align: middle;\n",
       "    }\n",
       "\n",
       "    .dataframe tbody tr th {\n",
       "        vertical-align: top;\n",
       "    }\n",
       "\n",
       "    .dataframe thead th {\n",
       "        text-align: right;\n",
       "    }\n",
       "</style>\n",
       "<table border=\"1\" class=\"dataframe\">\n",
       "  <thead>\n",
       "    <tr style=\"text-align: right;\">\n",
       "      <th></th>\n",
       "      <th>win</th>\n",
       "      <th>lose</th>\n",
       "      <th>probability</th>\n",
       "    </tr>\n",
       "  </thead>\n",
       "  <tbody>\n",
       "    <tr>\n",
       "      <th>0</th>\n",
       "      <td>Toronto Raptors</td>\n",
       "      <td>New Orleans Pelicans</td>\n",
       "      <td>0.876681</td>\n",
       "    </tr>\n",
       "    <tr>\n",
       "      <th>1</th>\n",
       "      <td>Los Angeles Clippers</td>\n",
       "      <td>Los Angeles Lakers</td>\n",
       "      <td>0.606575</td>\n",
       "    </tr>\n",
       "    <tr>\n",
       "      <th>2</th>\n",
       "      <td>Charlotte Hornets</td>\n",
       "      <td>Chicago Bulls</td>\n",
       "      <td>0.806458</td>\n",
       "    </tr>\n",
       "    <tr>\n",
       "      <th>3</th>\n",
       "      <td>Indiana Pacers</td>\n",
       "      <td>Detroit Pistons</td>\n",
       "      <td>0.648526</td>\n",
       "    </tr>\n",
       "    <tr>\n",
       "      <th>4</th>\n",
       "      <td>Orlando Magic</td>\n",
       "      <td>Cleveland Cavaliers</td>\n",
       "      <td>0.901510</td>\n",
       "    </tr>\n",
       "  </tbody>\n",
       "</table>\n",
       "</div>"
      ],
      "text/plain": [
       "                    win                  lose  probability\n",
       "0       Toronto Raptors  New Orleans Pelicans     0.876681\n",
       "1  Los Angeles Clippers    Los Angeles Lakers     0.606575\n",
       "2     Charlotte Hornets         Chicago Bulls     0.806458\n",
       "3        Indiana Pacers       Detroit Pistons     0.648526\n",
       "4         Orlando Magic   Cleveland Cavaliers     0.901510"
      ]
     },
     "execution_count": 11,
     "metadata": {},
     "output_type": "execute_result"
    }
   ],
   "source": [
    "# load predicted results\n",
    "predresults1920 = pd.read_csv('19-20Result_pred.csv', header=0)\n",
    "predresults1920.head()"
   ]
  },
  {
   "cell_type": "code",
   "execution_count": 12,
   "metadata": {},
   "outputs": [
    {
     "data": {
      "text/html": [
       "<div>\n",
       "<style scoped>\n",
       "    .dataframe tbody tr th:only-of-type {\n",
       "        vertical-align: middle;\n",
       "    }\n",
       "\n",
       "    .dataframe tbody tr th {\n",
       "        vertical-align: top;\n",
       "    }\n",
       "\n",
       "    .dataframe thead th {\n",
       "        text-align: right;\n",
       "    }\n",
       "</style>\n",
       "<table border=\"1\" class=\"dataframe\">\n",
       "  <thead>\n",
       "    <tr style=\"text-align: right;\">\n",
       "      <th></th>\n",
       "      <th>WTeam</th>\n",
       "    </tr>\n",
       "  </thead>\n",
       "  <tbody>\n",
       "    <tr>\n",
       "      <th>0</th>\n",
       "      <td>Toronto Raptors</td>\n",
       "    </tr>\n",
       "    <tr>\n",
       "      <th>1</th>\n",
       "      <td>Los Angeles Clippers</td>\n",
       "    </tr>\n",
       "    <tr>\n",
       "      <th>2</th>\n",
       "      <td>Charlotte Hornets</td>\n",
       "    </tr>\n",
       "    <tr>\n",
       "      <th>3</th>\n",
       "      <td>Detroit Pistons</td>\n",
       "    </tr>\n",
       "    <tr>\n",
       "      <th>4</th>\n",
       "      <td>Orlando Magic</td>\n",
       "    </tr>\n",
       "  </tbody>\n",
       "</table>\n",
       "</div>"
      ],
      "text/plain": [
       "                  WTeam\n",
       "0       Toronto Raptors\n",
       "1  Los Angeles Clippers\n",
       "2     Charlotte Hornets\n",
       "3       Detroit Pistons\n",
       "4         Orlando Magic"
      ]
     },
     "execution_count": 12,
     "metadata": {},
     "output_type": "execute_result"
    }
   ],
   "source": [
    "# load real results\n",
    "realresults1920 = pd.read_csv(folder + '/19-20_result.csv',header=0)\n",
    "realresults1920.head()"
   ]
  },
  {
   "cell_type": "code",
   "execution_count": 13,
   "metadata": {},
   "outputs": [
    {
     "name": "stdout",
     "output_type": "stream",
     "text": [
      "59.23009623797025% of real results and predicted results are same in the 2019-2020 season.\n"
     ]
    }
   ],
   "source": [
    "# compare predicted and real results\n",
    "win_match = 0\n",
    "for i in range(len(realresults1920)):\n",
    "    if predresults1920.loc[i, 'win'] == realresults1920.loc[i, 'WTeam']:\n",
    "        win_match += 1\n",
    "p_success = win_match / len(realresults1920)\n",
    "print(\"{}% of real results and predicted results are same in the 2019-2020 season.\".format(p_success * 100))"
   ]
  },
  {
   "cell_type": "code",
   "execution_count": 14,
   "metadata": {},
   "outputs": [
    {
     "name": "stdout",
     "output_type": "stream",
     "text": [
      "72.41379310344827% of real results and predicted results are same in the 2019-2020 season, when the probability is more than 85%.\n"
     ]
    }
   ],
   "source": [
    "# compare predicted and real results when probability is larger than 85%\n",
    "win_match = 0\n",
    "total_match = 0\n",
    "for i in range(len(realresults1920)):\n",
    "    if predresults1920.loc[i, 'probability'] > 0.85:\n",
    "        total_match += 1\n",
    "        if predresults1920.loc[i, 'win'] == realresults1920.loc[i, 'WTeam']:\n",
    "            win_match += 1\n",
    "p_success = win_match / total_match\n",
    "print(\"{}% of real results and predicted results are same in the 2019-2020 season, when the probability is more than 85%.\".format(p_success * 100))"
   ]
  },
  {
   "cell_type": "markdown",
   "metadata": {},
   "source": [
    "# Summary\n",
    "We used some statistics from basketball-reference.com to calculate the Elo score of each NBA team and used these basic statistics to evaluate the past games of each team, and compared the teams according to the rating method \"Elo Score\". The current team's performance and the characteristics of these different teams are finally used to determine which team can have the advantage in a game.  Unlike some other predictions, in our prediction results, we did not determine the results of each game by only saying the winner. Instead, we calculated the probability of our results. One improvement for this project would be the amount of data we use to evaluate the performance of the team is too small (only the 2018-2019 season's data). If you want a more accurate and systematic judgment, you should get more statistics of each NBA team from previous years for prediction. "
   ]
  },
  {
   "cell_type": "markdown",
   "metadata": {},
   "source": [
    "The results of the prediction is avaliable at <a href=\"19-20Result_pred.csv\" target=\"_blank\">here.</a>."
   ]
  }
 ],
 "metadata": {
  "kernelspec": {
   "display_name": "Python 3.8.2 64-bit",
   "language": "python",
   "name": "python38264bitcd7b8c8f6a75420c80ace3ac148c0bdb"
  },
  "language_info": {
   "codemirror_mode": {
    "name": "ipython",
    "version": 3
   },
   "file_extension": ".py",
   "mimetype": "text/x-python",
   "name": "python",
   "nbconvert_exporter": "python",
   "pygments_lexer": "ipython3",
   "version": "3.8.2"
  }
 },
 "nbformat": 4,
 "nbformat_minor": 2
}
